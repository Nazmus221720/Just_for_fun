{
 "cells": [
  {
   "cell_type": "code",
   "execution_count": 2,
   "id": "9acffa88-808f-4ea1-b070-186e084c5527",
   "metadata": {},
   "outputs": [],
   "source": [
    "import numpy as np"
   ]
  },
  {
   "cell_type": "code",
   "execution_count": 10,
   "id": "d7ffaaeb-ec0d-4dc0-bdeb-ec6b0aefb37f",
   "metadata": {},
   "outputs": [
    {
     "name": "stdout",
     "output_type": "stream",
     "text": [
      "[[ 7]\n",
      " [ 8]\n",
      " [ 7]\n",
      " [ 2]\n",
      " [ 1]\n",
      " [ 2]\n",
      " [10]\n",
      " [ 8]\n",
      " [ 9]\n",
      " [ 4]\n",
      " [ 1]\n",
      " [ 9]\n",
      " [ 4]\n",
      " [ 5]\n",
      " [ 9]\n",
      " [ 6]\n",
      " [10]\n",
      " [10]\n",
      " [10]\n",
      " [10]\n",
      " [ 2]\n",
      " [ 5]\n",
      " [ 9]\n",
      " [ 7]\n",
      " [ 2]\n",
      " [ 1]\n",
      " [ 8]\n",
      " [ 3]\n",
      " [ 8]\n",
      " [ 7]\n",
      " [ 3]\n",
      " [ 8]\n",
      " [ 2]\n",
      " [ 8]\n",
      " [ 5]\n",
      " [ 2]\n",
      " [ 9]\n",
      " [ 9]\n",
      " [ 2]\n",
      " [ 3]\n",
      " [ 2]\n",
      " [ 8]\n",
      " [ 1]\n",
      " [ 7]\n",
      " [ 8]\n",
      " [ 8]\n",
      " [ 3]\n",
      " [ 5]\n",
      " [ 1]\n",
      " [ 2]\n",
      " [ 2]\n",
      " [ 1]\n",
      " [ 3]\n",
      " [ 6]\n",
      " [ 2]\n",
      " [ 3]\n",
      " [ 5]\n",
      " [ 2]\n",
      " [10]\n",
      " [ 2]\n",
      " [ 2]\n",
      " [ 1]\n",
      " [ 6]\n",
      " [ 2]\n",
      " [ 6]\n",
      " [ 7]\n",
      " [ 1]\n",
      " [ 8]\n",
      " [ 4]\n",
      " [ 5]\n",
      " [ 2]\n",
      " [ 9]\n",
      " [ 8]\n",
      " [ 1]\n",
      " [ 9]\n",
      " [ 8]\n",
      " [ 1]\n",
      " [ 2]\n",
      " [ 4]\n",
      " [ 2]\n",
      " [ 6]\n",
      " [ 1]\n",
      " [ 6]\n",
      " [ 4]\n",
      " [ 5]\n",
      " [ 6]\n",
      " [ 5]\n",
      " [ 9]\n",
      " [ 3]\n",
      " [ 3]\n",
      " [10]\n",
      " [ 5]\n",
      " [ 4]\n",
      " [ 4]\n",
      " [ 9]\n",
      " [ 8]\n",
      " [ 8]\n",
      " [ 5]\n",
      " [ 2]\n",
      " [ 5]]\n"
     ]
    }
   ],
   "source": [
    "np.random.seed(221720)\n",
    "x_label = np.random.randint(1,11,100)\n",
    "x_label = x_label.reshape(-1,1)\n",
    "print(x_label)"
   ]
  },
  {
   "cell_type": "code",
   "execution_count": 11,
   "id": "9ea1d201-5727-493f-b274-9452ae26edf7",
   "metadata": {},
   "outputs": [
    {
     "name": "stderr",
     "output_type": "stream",
     "text": [
      "2025-01-18 11:35:01.464493: I tensorflow/core/platform/cpu_feature_guard.cc:210] This TensorFlow binary is optimized to use available CPU instructions in performance-critical operations.\n",
      "To enable the following instructions: AVX2 FMA, in other operations, rebuild TensorFlow with the appropriate compiler flags.\n"
     ]
    }
   ],
   "source": [
    "import tensorflow as tf "
   ]
  }
 ],
 "metadata": {
  "kernelspec": {
   "display_name": "Python 3 (ipykernel)",
   "language": "python",
   "name": "python3"
  },
  "language_info": {
   "codemirror_mode": {
    "name": "ipython",
    "version": 3
   },
   "file_extension": ".py",
   "mimetype": "text/x-python",
   "name": "python",
   "nbconvert_exporter": "python",
   "pygments_lexer": "ipython3",
   "version": "3.9.21"
  }
 },
 "nbformat": 4,
 "nbformat_minor": 5
}
